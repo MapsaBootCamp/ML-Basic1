{
 "cells": [
  {
   "cell_type": "code",
   "execution_count": 23,
   "id": "2caab743-45d9-47fc-b92f-7bc05f474bd0",
   "metadata": {},
   "outputs": [],
   "source": [
    "import itertools\n",
    "import numpy as np\n",
    "from sklearn.datasets import make_classification"
   ]
  },
  {
   "cell_type": "code",
   "execution_count": 13,
   "id": "dcfebccd-ccde-47c6-a440-3ebd84567b83",
   "metadata": {},
   "outputs": [],
   "source": [
    "n_feature = 10\n",
    "X, y = make_classification(n_samples=1000, n_features=n_feature)"
   ]
  },
  {
   "cell_type": "code",
   "execution_count": 14,
   "id": "4c948254-4de1-4283-b3cd-4eb11bb58017",
   "metadata": {},
   "outputs": [],
   "source": [
    "from sklearn.model_selection import train_test_split\n",
    "\n",
    "X_train, X_test,y_train, y_test = train_test_split(X, y, test_size=0.2, random_state=42)"
   ]
  },
  {
   "cell_type": "code",
   "execution_count": 52,
   "id": "a69c1bcb-7c0a-4476-a53e-8c3d4998795d",
   "metadata": {},
   "outputs": [],
   "source": [
    "from sklearn.svm import LinearSVC\n",
    "from sklearn.model_selection import KFold\n",
    "from sklearn.metrics import accuracy_score\n",
    "\n",
    "def evaluation_feature(X, y, selected_features=None, cv=3):\n",
    "    if selected_features == None:\n",
    "        selected_features = X.shape[1]\n",
    "    kf = KFold(n_splits=cv)\n",
    "    acc = []\n",
    "    for train_index, validation_index in kf.split(X):\n",
    "        ## TODO: fit, truncate?\n",
    "        estimator=LinearSVC(dual=\"auto\")\n",
    "        estimator.fit(X[train_index][:, selected_features], y[train_index])\n",
    "        prediction = estimator.predict(X[validation_index][:, selected_features])\n",
    "        accuracy = accuracy_score(y[validation_index], prediction)\n",
    "        acc.append(accuracy)\n",
    "    return np.array(acc).mean()"
   ]
  },
  {
   "cell_type": "code",
   "execution_count": null,
   "id": "cb04b4b4-9252-4d9a-8188-65860672c173",
   "metadata": {},
   "outputs": [],
   "source": [
    "max_accuracy = 0\n",
    "selected_features = set()\n",
    "\n",
    "for features in itertools.combinations(range(n_feature), 5):\n",
    "    accuracy = evaluation_feature(X_train, y_train, selected_features=features)\n",
    "    print(\"features\", features)\n",
    "    print(\"accuracy\", accuracy)\n",
    "    if accuracy > max_accuracy:\n",
    "        max_accuracy = accuracy\n",
    "        selected_features = features\n",
    "\n",
    "print(\"max accuracy\", max_accuracy)\n",
    "print(\"best features\", selected_features)"
   ]
  },
  {
   "cell_type": "code",
   "execution_count": 51,
   "id": "642ba190-8540-43cb-8a05-9175c077a817",
   "metadata": {},
   "outputs": [
    {
     "data": {
      "text/plain": [
       "0.94"
      ]
     },
     "execution_count": 51,
     "metadata": {},
     "output_type": "execute_result"
    }
   ],
   "source": [
    "X_train_selected = X_train[:, selected_features]\n",
    "X_test_selected = X_test[:, selected_features]\n",
    "\n",
    "model = LinearSVC(dual='auto')\n",
    "model.fit(X_train_selected, y_train)\n",
    "prediction = model.predict(X_test_selected)\n",
    "\n",
    "accuracy_score(y_test, prediction)"
   ]
  }
 ],
 "metadata": {
  "kernelspec": {
   "display_name": "Python 3 (ipykernel)",
   "language": "python",
   "name": "python3"
  },
  "language_info": {
   "codemirror_mode": {
    "name": "ipython",
    "version": 3
   },
   "file_extension": ".py",
   "mimetype": "text/x-python",
   "name": "python",
   "nbconvert_exporter": "python",
   "pygments_lexer": "ipython3",
   "version": "3.8.10"
  }
 },
 "nbformat": 4,
 "nbformat_minor": 5
}
