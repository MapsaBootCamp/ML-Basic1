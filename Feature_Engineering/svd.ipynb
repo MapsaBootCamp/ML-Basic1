{
 "cells": [
  {
   "cell_type": "code",
   "execution_count": 1,
   "id": "19e0b3a2-e396-43cb-8cf1-d19639204ec7",
   "metadata": {},
   "outputs": [],
   "source": [
    "import numpy as np"
   ]
  },
  {
   "cell_type": "code",
   "execution_count": 7,
   "id": "060b34f1-bfac-4b94-920f-7f643c2e638a",
   "metadata": {},
   "outputs": [],
   "source": [
    "A = np.random.randint(1, 5, size=(5, 4))\n",
    "A -= np.mean(A) \n",
    "u, sig, v = np.linalg.svd(A)"
   ]
  },
  {
   "cell_type": "code",
   "execution_count": 8,
   "id": "0fe28fcb-a5ef-4ca8-8819-aa36057b7e07",
   "metadata": {},
   "outputs": [
    {
     "data": {
      "text/plain": [
       "array([[-0.35097682, -0.38634577, -0.00711749, -0.07136896, -0.8499459 ],\n",
       "       [-0.64042854,  0.24244398, -0.60978812, -0.35150559,  0.18887687],\n",
       "       [-0.42675845, -0.42269251, -0.04938731,  0.73659098,  0.30692491],\n",
       "       [-0.30150983,  0.76660222,  0.31362081,  0.39447155, -0.25970569],\n",
       "       [-0.44004046, -0.16003105,  0.7261616 , -0.41614447,  0.2833153 ]])"
      ]
     },
     "execution_count": 8,
     "metadata": {},
     "output_type": "execute_result"
    }
   ],
   "source": [
    "u"
   ]
  },
  {
   "cell_type": "code",
   "execution_count": 9,
   "id": "1a0b3777-ebb5-42c4-a91a-287a0594ddfc",
   "metadata": {},
   "outputs": [
    {
     "data": {
      "text/plain": [
       "array([[-0.31216055, -0.65251159, -0.4806245 , -0.49576659],\n",
       "       [ 0.08701277, -0.51730638,  0.83200663, -0.18052108],\n",
       "       [ 0.63036091,  0.28174542, -0.0473604 , -0.72181828],\n",
       "       [ 0.70542873, -0.47669934, -0.27298727,  0.4478906 ]])"
      ]
     },
     "execution_count": 9,
     "metadata": {},
     "output_type": "execute_result"
    }
   ],
   "source": [
    "v"
   ]
  },
  {
   "cell_type": "code",
   "execution_count": 10,
   "id": "29d6a931-3e15-4dad-8f14-04be26c097ba",
   "metadata": {},
   "outputs": [
    {
     "data": {
      "text/plain": [
       "array([10.66125383,  2.57267446,  2.16365669,  1.42744618])"
      ]
     },
     "execution_count": 10,
     "metadata": {},
     "output_type": "execute_result"
    }
   ],
   "source": [
    "sig"
   ]
  },
  {
   "cell_type": "code",
   "execution_count": 12,
   "id": "9771f36b-c451-46aa-8d4c-c3d97e863ac2",
   "metadata": {},
   "outputs": [
    {
     "data": {
      "text/plain": [
       "array([[ 1.00000000e+00, -2.78445701e-17,  2.24436022e-17,\n",
       "        -1.07192366e-16],\n",
       "       [-2.78445701e-17,  1.00000000e+00, -4.21672401e-16,\n",
       "        -4.68616505e-17],\n",
       "       [ 2.24436022e-17, -4.21672401e-16,  1.00000000e+00,\n",
       "         5.30299737e-17],\n",
       "       [-1.07192366e-16, -4.68616505e-17,  5.30299737e-17,\n",
       "         1.00000000e+00]])"
      ]
     },
     "execution_count": 12,
     "metadata": {},
     "output_type": "execute_result"
    }
   ],
   "source": [
    "v @ v.T"
   ]
  }
 ],
 "metadata": {
  "kernelspec": {
   "display_name": "Python 3 (ipykernel)",
   "language": "python",
   "name": "python3"
  },
  "language_info": {
   "codemirror_mode": {
    "name": "ipython",
    "version": 3
   },
   "file_extension": ".py",
   "mimetype": "text/x-python",
   "name": "python",
   "nbconvert_exporter": "python",
   "pygments_lexer": "ipython3",
   "version": "3.8.10"
  }
 },
 "nbformat": 4,
 "nbformat_minor": 5
}
