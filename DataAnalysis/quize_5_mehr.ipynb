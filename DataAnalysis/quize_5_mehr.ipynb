{
 "cells": [
  {
   "cell_type": "code",
   "execution_count": 3,
   "id": "facdddec-15a5-40f9-b01a-421742d951e8",
   "metadata": {},
   "outputs": [],
   "source": [
    "import numpy as np"
   ]
  },
  {
   "cell_type": "markdown",
   "id": "2158c64f-34b0-4c6d-812e-8e17bec9eb30",
   "metadata": {},
   "source": [
    "<div dir = \"rtl\" style=\"direction:rtl;line-height:300%;\">\n",
    "\t<font face=\"XB Zar\" size=4>\n",
    "        <font>\n",
    "            مجموعه داده های زیر را در نظر بگیرید\n",
    "        </font>\n",
    "        <br/>\n",
    "    </font>\n",
    "</div>"
   ]
  },
  {
   "cell_type": "code",
   "execution_count": 4,
   "id": "f2e8805d-4281-4c5f-96c3-08a859f6526b",
   "metadata": {},
   "outputs": [],
   "source": [
    "numbers = np.array([ 4.5 , 7.8 ,  6.5,  0.5,  8. ,  6.5, 19. , 13.5,  2.5, 17. , 19. ,\n",
    "       19.5, 13. ,  12.21 ,  6.3 ,  0.5,  9.5, 13.5, 16. ,  2.5, 10.5,  8. ,\n",
    "       10. , 15.5,  7.5,  0. ,  1. , 10.5,  2. , 11. ,  3. , 14. ,  3.5,\n",
    "       18.5, 13. ,  1. , 14.5, 15. ,  1.52 , 15.5,  1.5,  2.8 ,  3.5,  6.5,\n",
    "        12.5, 14.5, 11.5,  8. ,  10.2 ,  5.5,  0.5, 23. ,  5. ,  0.5, 17.5,\n",
    "       17.5, 17.5, 15. ,  4.5, 17. , 18. , 10. ,  8.5, 14. , 18.5, 19.5,\n",
    "       16.3 ,  8.5,  0. ,  9.5,  6. ,  2. ,  5. ,  9.5,  4. ,  4. ,  1. ,\n",
    "        8. , 18.5, 18. , 15.5,  4.5,  1.5, 20. ,  0.5, 19. ,  4. ,  9.5,\n",
    "       12.8  ])"
   ]
  },
  {
   "cell_type": "markdown",
   "id": "c4c854b4-f8c7-4c1d-9bbf-dfe7181ad28c",
   "metadata": {},
   "source": [
    "<div id=\"bayes\" style=\"direction:rtl;line-height:60%;\">\n",
    "\t<font face=\"XB Zar\" size=2>\n",
    "\t\t<p></p>\n",
    "        برای این مجموعه داده ها قصد داریم با دو فرمول زیر مقادیر آنها را تغییر دهیم:\n",
    "۱. اگر عددی کمتر از هشت و نیم است با فرمول زیر آن عدد تغییر کند:\n",
    "$$ y = 10 + \\frac{x}{10} $$\n",
    "۲. اگر عددیبیشتر یا مساوی هشت و نیم است با فرمول زیر آن عدد تغییر کند :\n",
    "$$ y =  -0.0051x^{2} + 0.8586x + 3.4332 $$\n",
    "توجه کنید که حتی بعد از تغییر باید بیشینه عدد نهایتا بیشینه عدد موجود در داده فعلی باشد. 25 درصد داده های بزرگتر را در آرایه زیر بریزید\n",
    "</div>"
   ]
  },
  {
   "cell_type": "code",
   "execution_count": 6,
   "id": "10293a59-79e3-4c33-b2ee-7f16d8cec1a7",
   "metadata": {},
   "outputs": [],
   "source": [
    "# TODO"
   ]
  },
  {
   "cell_type": "markdown",
   "id": "3fbde6cb-fa30-4625-ab89-743e38105d2c",
   "metadata": {},
   "source": [
    "<div id=\"bayes\" style=\"direction:rtl;line-height:300%;\">\n",
    "\t<font face=\"XB Zar\" size=4>\n",
    "\t\t<p></p>\n",
    " 25 درصد داده های کوچکتر آرایه اول را در آرایه زیر بریزید\n",
    "</div>"
   ]
  },
  {
   "cell_type": "code",
   "execution_count": null,
   "id": "ca93534f-205e-4fd5-8c20-40d75b53f178",
   "metadata": {},
   "outputs": [],
   "source": [
    "# TODO"
   ]
  },
  {
   "cell_type": "markdown",
   "id": "ba76b1e2-1fdd-4d44-9b69-8d588b17401c",
   "metadata": {},
   "source": [
    "<div id=\"bayes\" style=\"direction:rtl;line-height:300%;\">\n",
    "\t<font face=\"XB Zar\" size=4>\n",
    "      <p></p>\n",
    "        داده های متناظر دو آرایه به دست آمده را از یکدیگر کسر کنید و در یک آرایه سه بعدی که اندازه ابعاد سوم و دوم آن یک میباشد بریزید\n",
    "</div>"
   ]
  },
  {
   "cell_type": "code",
   "execution_count": null,
   "id": "ff3d66cb-bf1f-4f78-8f6f-7b47141f580a",
   "metadata": {},
   "outputs": [],
   "source": [
    "# TODO"
   ]
  }
 ],
 "metadata": {
  "kernelspec": {
   "display_name": "Python 3 (ipykernel)",
   "language": "python",
   "name": "python3"
  },
  "language_info": {
   "codemirror_mode": {
    "name": "ipython",
    "version": 3
   },
   "file_extension": ".py",
   "mimetype": "text/x-python",
   "name": "python",
   "nbconvert_exporter": "python",
   "pygments_lexer": "ipython3",
   "version": "3.8.10"
  }
 },
 "nbformat": 4,
 "nbformat_minor": 5
}
