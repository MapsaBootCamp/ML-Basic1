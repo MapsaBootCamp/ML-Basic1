{
 "cells": [
  {
   "cell_type": "markdown",
   "id": "e0eb3424-ada3-4c03-8cb3-4edcb41d797d",
   "metadata": {},
   "source": [
    "## central limit theorem"
   ]
  },
  {
   "cell_type": "markdown",
   "id": "0f83d42f-c889-4f5b-ab33-1a49e1ae1f1c",
   "metadata": {},
   "source": [
    "In probability theory, the central limit theorem (CLT) establishes that, in many situations, for independent and identically distributed random variables, the sampling distribution of the standardized sample mean tends towards the standard normal distribution even if the original variables themselves are not normally distributed.\n",
    "\n",
    "<br/>\n",
    "The theorem is a key concept in probability theory because it implies that probabilistic and statistical methods that work for normal distributions can be applicable to many problems involving other types of distributions.\n",
    "\n",
    "<br/>\n",
    "<br/>\n",
    "\n",
    "An elementary form of the theorem states the following. Let \n",
    "$X_{1},X_{2},\\dots ,X_{n}$ denote a random sample of \n",
    "n independent observations from a population with overall expected value (average) \n",
    "$\\mu$ and finite variance $\\sigma ^{2}$, and let ${\\displaystyle {\\bar {X}}_{n}}$ denote the sample mean of that sample (which is itself a random variable). Then the limit as \n",
    "$n\\to \\infty$ of the distribution of ${\\displaystyle {\\frac {{\\bar {X}}_{n}-\\mu }{\\sigma _{{\\bar {X}}_{n}}}},}$ where ${\\displaystyle \\sigma _{{\\bar {X}}_{n}}={\\frac {\\sigma }{\\sqrt {n}}},}$ is the standard normal distribution."
   ]
  },
  {
   "cell_type": "code",
   "execution_count": 6,
   "id": "febbdcee-e3fb-4cb0-b233-0dc0f148b465",
   "metadata": {},
   "outputs": [],
   "source": [
    "import numpy as np\n",
    "import matplotlib.pyplot as plt"
   ]
  },
  {
   "cell_type": "code",
   "execution_count": 24,
   "id": "b435a170-d628-49b0-88f5-fed9e60d3122",
   "metadata": {},
   "outputs": [],
   "source": [
    "min_range = 150\n",
    "max_range = 190\n",
    "pop_size = 100000\n",
    "sample_size = 30\n",
    "number_of_sampling = 1000"
   ]
  },
  {
   "cell_type": "code",
   "execution_count": 25,
   "id": "ef1be0f2-ca64-4cf7-a990-8e6c832596e3",
   "metadata": {},
   "outputs": [],
   "source": [
    "pop = np.random.uniform(min_range, max_range, pop_size)"
   ]
  },
  {
   "cell_type": "code",
   "execution_count": 26,
   "id": "084db1f6-b5f7-4901-9f33-2abbb7a16cf2",
   "metadata": {},
   "outputs": [
    {
     "data": {
      "text/plain": [
       "(array([ 2.,  1.,  0.,  2.,  3.,  3.,  8.,  5., 10., 18., 16., 22., 31.,\n",
       "        35., 45., 49., 59., 64., 66., 65., 65., 70., 71., 58., 47., 40.,\n",
       "        44., 30., 15., 20., 15.,  9.,  3.,  4.,  2.,  2.,  0.,  0.,  0.,\n",
       "         1.]),\n",
       " array([162.80676009, 163.16886404, 163.53096799, 163.89307193,\n",
       "        164.25517588, 164.61727982, 164.97938377, 165.34148771,\n",
       "        165.70359166, 166.0656956 , 166.42779955, 166.78990349,\n",
       "        167.15200744, 167.51411138, 167.87621533, 168.23831928,\n",
       "        168.60042322, 168.96252717, 169.32463111, 169.68673506,\n",
       "        170.048839  , 170.41094295, 170.77304689, 171.13515084,\n",
       "        171.49725478, 171.85935873, 172.22146268, 172.58356662,\n",
       "        172.94567057, 173.30777451, 173.66987846, 174.0319824 ,\n",
       "        174.39408635, 174.75619029, 175.11829424, 175.48039818,\n",
       "        175.84250213, 176.20460608, 176.56671002, 176.92881397,\n",
       "        177.29091791]),\n",
       " <BarContainer object of 40 artists>)"
      ]
     },
     "execution_count": 26,
     "metadata": {},
     "output_type": "execute_result"
    },
    {
     "data": {
      "image/png": "[encoded data removed]",
      "text/plain": [
       "<Figure size 640x480 with 1 Axes>"
      ]
     },
     "metadata": {},
     "output_type": "display_data"
    }
   ],
   "source": [
    "mean_data = []\n",
    "for i in range(number_of_sampling):\n",
    "    sample = np.random.choice(pop, sample_size)\n",
    "    mean_data.append(sample.mean())\n",
    "plt.hist(mean_data, bins=40)    "
   ]
  },
  {
   "cell_type": "markdown",
   "id": "30a505e0-21a0-48c3-8477-b2b3dddf1cd6",
   "metadata": {},
   "source": [
    "<p></p>\n",
    "<br />\n",
    "<div id=\"sec_astronomer\" style=\"direction:rtl;line-height:300%;\">\n",
    "\t<font face=\"XB Zar\" size=5>\n",
    "\t\t<font color=#FF7500 size=6>\n",
    "مثال، دغدغه‌های یک ستاره شناس(رفرنس:‌جزوه دکتر شریفی زارچی)\n",
    "        </font>\n",
    "\t\t<p></p>\n",
    "\t\t<hr>\n",
    "       یک ستاره‌شناس خوش‌ذوق می‌خواهد فاصله‌ی خودش تا یک ستاره را اندازه بگیرد. اگرچه او در اندازه‌گیری فاصله اجرام آسمانی مهارت دارد اما می‌داند به دلیل تغییرات جوی سطح ستاره ها و خطای اندازه‌گیری، هر اندازه گیری نمی‌تواند نتیجه‌ی درست را نشان دهد اما می‌تواند یک تخمین باشد. در نتیجه تصمیم می‌گیرد تعداد نسبتا زیادی اندازه‌گیری انجام دهد و میانگین آن‌ها را به عنوان مقدار واقعی در نظر بگیرد. اگر این مقادیر اندازه گیری شده مستقل از هم و هم توزیع باشند و دارای میانگین $\\mu$ و واریانس 9 سال نوری باشند، این ستاره شناس چند اندازه‌گیری باید انجام دهد تا حدودا مطمئن شود که اندازه تخمین زده شده با دقت 1 سال نوری دقیق است؟\n",
    "        <br/><br/>\n",
    "        <font color=blue size=5>\n",
    "پاسخ:\n",
    "        </font>\n",
    "        <br/><br/>\n",
    "        فرض کنید این ستاره شناس می‌خواهد $n$ مشاهده انجام دهد. اگر متغیر های تصادفی $X_1, \\ldots, X_n$ نمایشگر این اندازه‌ها باشند، از قضیه‌ی حد مرکزی نتیجه می‌شود که\n",
    "        <br/>\n",
    "        $$Z_n = \\frac{\\sum_{i=1}^{n} X_i - n\\mu}{3\\sqrt{n}}$$\n",
    "        <br/>\n",
    "        توزیع تقریبا نرمال استاندارد دارد. در نتیجه،\n",
    "        <br/>\n",
    "        $$P\\{-1\\leq \\frac{\\sum_{i=1}^{n}X_i}{n}-\\mu\\leq 1 \\}= P\\{-\\frac{\\sqrt{n}}{3}\\leq Z_n \\leq \\frac{\\sqrt{n}}{3}\\} \\approx \\Phi(\\frac{\\sqrt{n}}{3})- \\Phi(\\frac{-\\sqrt{n}}{3}) = 2\\Phi(\\frac{\\sqrt{n}}{3})-1$$\n",
    "        حال به طور مثال اگر این ستاره شناس بخواهد 95 درصد مطمئن باشد باید $n$را طوری انتخاب کنیم که،\n",
    "        <br/>\n",
    "        $$2\\Phi(\\frac{\\sqrt{n}}{3})-1 = 0.95 \\Rightarrow \\Phi(\\frac{\\sqrt{n}}{3}) = 0.975$$\n",
    "        در نتیجه،\n",
    "        <br/>\n",
    "        $$\\frac{\\sqrt{n}}{3} = 1.96 \\Rightarrow n = 34.57$$\n",
    "        پس ستاره‌شناس باید حداقل 35 مشاهده انجام دهد.\n",
    "\t</font>\n",
    "</div>\n",
    "\n"
   ]
  },
  {
   "cell_type": "code",
   "execution_count": null,
   "id": "18a64ad9-8250-4015-9a31-22ca5e4366b2",
   "metadata": {},
   "outputs": [],
   "source": []
  }
 ],
 "metadata": {
  "kernelspec": {
   "display_name": "Python 3 (ipykernel)",
   "language": "python",
   "name": "python3"
  },
  "language_info": {
   "codemirror_mode": {
    "name": "ipython",
    "version": 3
   },
   "file_extension": ".py",
   "mimetype": "text/x-python",
   "name": "python",
   "nbconvert_exporter": "python",
   "pygments_lexer": "ipython3",
   "version": "3.9.6"
  }
 },
 "nbformat": 4,
 "nbformat_minor": 5
}
