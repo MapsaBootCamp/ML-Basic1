{
 "cells": [
  {
   "cell_type": "markdown",
   "id": "e0eb3424-ada3-4c03-8cb3-4edcb41d797d",
   "metadata": {},
   "source": [
    "## central limit theorem"
   ]
  },
  {
   "cell_type": "markdown",
   "id": "0f83d42f-c889-4f5b-ab33-1a49e1ae1f1c",
   "metadata": {},
   "source": [
    "In probability theory, the central limit theorem (CLT) establishes that, in many situations, for independent and identically distributed random variables, the sampling distribution of the standardized sample mean tends towards the standard normal distribution even if the original variables themselves are not normally distributed.\n",
    "\n",
    "<br/>\n",
    "The theorem is a key concept in probability theory because it implies that probabilistic and statistical methods that work for normal distributions can be applicable to many problems involving other types of distributions.\n",
    "\n",
    "<br/>\n",
    "<br/>\n",
    "\n",
    "An elementary form of the theorem states the following. Let \n",
    "$X_{1},X_{2},\\dots ,X_{n}$ denote a random sample of \n",
    "n independent observations from a population with overall expected value (average) \n",
    "$\\mu$ and finite variance $\\sigma ^{2}$, and let ${\\displaystyle {\\bar {X}}_{n}}$ denote the sample mean of that sample (which is itself a random variable). Then the limit as \n",
    "$n\\to \\infty$ of the distribution of ${\\displaystyle {\\frac {{\\bar {X}}_{n}-\\mu }{\\sigma _{{\\bar {X}}_{n}}}},}$ where ${\\displaystyle \\sigma _{{\\bar {X}}_{n}}={\\frac {\\sigma }{\\sqrt {n}}},}$ is the standard normal distribution."
   ]
  },
  {
   "cell_type": "code",
   "execution_count": 1,
   "id": "febbdcee-e3fb-4cb0-b233-0dc0f148b465",
   "metadata": {},
   "outputs": [],
   "source": [
    "import numpy as np\n",
    "import pandas as pd\n",
    "import scipy\n",
    "import matplotlib.pyplot as plt"
   ]
  },
  {
   "cell_type": "code",
   "execution_count": 15,
   "id": "b435a170-d628-49b0-88f5-fed9e60d3122",
   "metadata": {},
   "outputs": [],
   "source": [
    "min_range = 150\n",
    "max_range = 190\n",
    "pop_size = 100000\n",
    "sample_size = 30\n",
    "number_of_sampling = 1000"
   ]
  },
  {
   "cell_type": "code",
   "execution_count": 16,
   "id": "ef1be0f2-ca64-4cf7-a990-8e6c832596e3",
   "metadata": {},
   "outputs": [
    {
     "data": {
      "text/plain": [
       "169.99081794087314"
      ]
     },
     "execution_count": 16,
     "metadata": {},
     "output_type": "execute_result"
    }
   ],
   "source": [
    "pop = np.random.uniform(min_range, max_range, pop_size)\n",
    "pop.mean()"
   ]
  },
  {
   "cell_type": "code",
   "execution_count": 17,
   "id": "084db1f6-b5f7-4901-9f33-2abbb7a16cf2",
   "metadata": {},
   "outputs": [
    {
     "data": {
      "text/plain": [
       "(array([ 6.,  4.,  7., 12.,  4., 16., 17., 12., 16., 24., 40., 29., 30.,\n",
       "        34., 38., 37., 39., 41., 46., 41., 48., 41., 49., 32., 34., 29.,\n",
       "        42., 36., 26., 23., 24., 33., 16., 14., 13., 18., 12.,  8.,  5.,\n",
       "         4.]),\n",
       " array([150.89533923, 151.84807124, 152.80080325, 153.75353526,\n",
       "        154.70626727, 155.65899929, 156.6117313 , 157.56446331,\n",
       "        158.51719532, 159.46992734, 160.42265935, 161.37539136,\n",
       "        162.32812337, 163.28085539, 164.2335874 , 165.18631941,\n",
       "        166.13905142, 167.09178344, 168.04451545, 168.99724746,\n",
       "        169.94997947, 170.90271149, 171.8554435 , 172.80817551,\n",
       "        173.76090752, 174.71363953, 175.66637155, 176.61910356,\n",
       "        177.57183557, 178.52456758, 179.4772996 , 180.43003161,\n",
       "        181.38276362, 182.33549563, 183.28822765, 184.24095966,\n",
       "        185.19369167, 186.14642368, 187.0991557 , 188.05188771,\n",
       "        189.00461972]),\n",
       " <BarContainer object of 40 artists>)"
      ]
     },
     "execution_count": 17,
     "metadata": {},
     "output_type": "execute_result"
    },
    {
     "data": {
      "image/png": "[encoded data removed]",
      "text/plain": [
       "<Figure size 640x480 with 1 Axes>"
      ]
     },
     "metadata": {},
     "output_type": "display_data"
    }
   ],
   "source": [
    "mean_data = []\n",
    "for i in range(number_of_sampling):\n",
    "    sample = np.random.choice(pop, sample_size)\n",
    "    mean_data.append(sample.mean())\n",
    "plt.hist(mean_data, bins=40)    "
   ]
  },
  {
   "cell_type": "markdown",
   "id": "30a505e0-21a0-48c3-8477-b2b3dddf1cd6",
   "metadata": {},
   "source": [
    "<p></p>\n",
    "<br />\n",
    "<div id=\"sec_astronomer\" style=\"direction:rtl;line-height:300%;\">\n",
    "\t<font face=\"XB Zar\" size=5>\n",
    "\t\t<font color=#FF7500 size=6>\n",
    "مثال، دغدغه‌های یک ستاره شناس(رفرنس:‌جزوه دکتر شریفی زارچی)\n",
    "        </font>\n",
    "\t\t<p></p>\n",
    "\t\t<hr>\n",
    "       یک ستاره‌شناس خوش‌ذوق می‌خواهد فاصله‌ی خودش تا یک ستاره را اندازه بگیرد. اگرچه او در اندازه‌گیری فاصله اجرام آسمانی مهارت دارد اما می‌داند به دلیل تغییرات جوی سطح ستاره ها و خطای اندازه‌گیری، هر اندازه گیری نمی‌تواند نتیجه‌ی درست را نشان دهد اما می‌تواند یک تخمین باشد. در نتیجه تصمیم می‌گیرد تعداد نسبتا زیادی اندازه‌گیری انجام دهد و میانگین آن‌ها را به عنوان مقدار واقعی در نظر بگیرد. اگر این مقادیر اندازه گیری شده مستقل از هم و هم توزیع باشند و دارای میانگین $\\mu$ و واریانس 9 سال نوری باشند، این ستاره شناس چند اندازه‌گیری باید انجام دهد تا حدودا مطمئن شود که اندازه تخمین زده شده با دقت 1 سال نوری دقیق است؟\n",
    "        <br/><br/>\n",
    "        <font color=blue size=5>\n",
    "پاسخ:\n",
    "        </font>\n",
    "        <br/><br/>\n",
    "        فرض کنید این ستاره شناس می‌خواهد $n$ مشاهده انجام دهد. اگر متغیر های تصادفی $X_1, \\ldots, X_n$ نمایشگر این اندازه‌ها باشند، از قضیه‌ی حد مرکزی نتیجه می‌شود که\n",
    "        <br/>\n",
    "        $$Z_n = \\frac{\\sum_{i=1}^{n} X_i - n\\mu}{3\\sqrt{n}}$$\n",
    "        <br/>\n",
    "        توزیع تقریبا نرمال استاندارد دارد. در نتیجه،\n",
    "        <br/>\n",
    "        $$P\\{-1\\leq \\frac{\\sum_{i=1}^{n}X_i}{n}-\\mu\\leq 1 \\}= P\\{-\\frac{\\sqrt{n}}{3}\\leq Z_n \\leq \\frac{\\sqrt{n}}{3}\\} \\approx \\Phi(\\frac{\\sqrt{n}}{3})- \\Phi(\\frac{-\\sqrt{n}}{3}) = 2\\Phi(\\frac{\\sqrt{n}}{3})-1$$\n",
    "        حال به طور مثال اگر این ستاره شناس بخواهد 95 درصد مطمئن باشد باید $n$را طوری انتخاب کنیم که،\n",
    "        <br/>\n",
    "        $$2\\Phi(\\frac{\\sqrt{n}}{3})-1 = 0.95 \\Rightarrow \\Phi(\\frac{\\sqrt{n}}{3}) = 0.975$$\n",
    "        در نتیجه،\n",
    "        <br/>\n",
    "        $$\\frac{\\sqrt{n}}{3} = 1.96 \\Rightarrow n = 34.57$$\n",
    "        پس ستاره‌شناس باید حداقل 35 مشاهده انجام دهد.\n",
    "\t</font>\n",
    "</div>\n",
    "\n"
   ]
  },
  {
   "cell_type": "markdown",
   "id": "05f671ba-0196-42a7-8674-756f0922bc57",
   "metadata": {},
   "source": [
    "## Hypothesis test"
   ]
  },
  {
   "cell_type": "code",
   "execution_count": 11,
   "id": "4b6c2cfc-a0d4-44c3-baca-2748526d4b77",
   "metadata": {},
   "outputs": [],
   "source": [
    "data = pd.read_csv(\"rest_time.csv\")\n",
    "MEAN_TIME = 30\n",
    "alpha = 0.05"
   ]
  },
  {
   "cell_type": "code",
   "execution_count": 9,
   "id": "6f9c159d-087b-478c-8a8f-d34988275f2e",
   "metadata": {},
   "outputs": [],
   "source": [
    "tstat, pvalue = scipy.stats.ttest_1samp(data[\"times\"].values, 30, alternative='greater')"
   ]
  },
  {
   "cell_type": "code",
   "execution_count": 14,
   "id": "ca224cc9-56a3-4395-8f47-0ffb9e94eed2",
   "metadata": {
    "scrolled": true
   },
   "outputs": [
    {
     "name": "stdout",
     "output_type": "stream",
     "text": [
      "H0 rejected, pvalue=5.591878528110223e-10\n"
     ]
    }
   ],
   "source": [
    "if pvalue < alpha:\n",
    "    print(f\"H0 rejected, {pvalue=}\")\n",
    "else:\n",
    "    print(\"H0 cant be rejected\")"
   ]
  },
  {
   "cell_type": "code",
   "execution_count": null,
   "id": "ed29a7b6-1b6d-4e06-b641-9f22d138ff25",
   "metadata": {},
   "outputs": [],
   "source": []
  }
 ],
 "metadata": {
  "kernelspec": {
   "display_name": "Python 3 (ipykernel)",
   "language": "python",
   "name": "python3"
  },
  "language_info": {
   "codemirror_mode": {
    "name": "ipython",
    "version": 3
   },
   "file_extension": ".py",
   "mimetype": "text/x-python",
   "name": "python",
   "nbconvert_exporter": "python",
   "pygments_lexer": "ipython3",
   "version": "3.8.10"
  }
 },
 "nbformat": 4,
 "nbformat_minor": 5
}
