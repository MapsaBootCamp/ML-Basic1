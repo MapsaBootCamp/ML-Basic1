{
 "cells": [
  {
   "cell_type": "code",
   "execution_count": 1,
   "id": "a3ad307f-42f4-499a-8f1e-66b8f8f87353",
   "metadata": {},
   "outputs": [],
   "source": [
    "import numpy as np\n",
    "import pandas as pd"
   ]
  },
  {
   "cell_type": "markdown",
   "id": "5b7a1933-68af-4a36-9a1b-c57e1cf51372",
   "metadata": {
    "jp-MarkdownHeadingCollapsed": true
   },
   "source": [
    "## Filling Missing Values with Group-Specific Values\n",
    "When cleaning up missing data, in some cases you will remove data observations\n",
    "using dropna , but in others you may want to fill in the null (NA) values using a\n",
    "fixed value or some value derived from the data. fillna is the right tool to use;"
   ]
  },
  {
   "cell_type": "code",
   "execution_count": 2,
   "id": "d62b6dbc-0717-4a0e-ba53-893ea5df2cd7",
   "metadata": {},
   "outputs": [
    {
     "data": {
      "text/plain": [
       "0         NaN\n",
       "1    1.132940\n",
       "2         NaN\n",
       "3    0.815862\n",
       "4         NaN\n",
       "5    1.574887\n",
       "dtype: float64"
      ]
     },
     "execution_count": 2,
     "metadata": {},
     "output_type": "execute_result"
    }
   ],
   "source": [
    "s = pd.Series(np.random.standard_normal(6))\n",
    "s[::2] = np.nan\n",
    "s"
   ]
  },
  {
   "cell_type": "code",
   "execution_count": 3,
   "id": "feec9a0e-d61d-4f18-a6c5-f7723c12dc2d",
   "metadata": {},
   "outputs": [
    {
     "data": {
      "text/plain": [
       "0    1.174563\n",
       "1    1.132940\n",
       "2    1.174563\n",
       "3    0.815862\n",
       "4    1.174563\n",
       "5    1.574887\n",
       "dtype: float64"
      ]
     },
     "execution_count": 3,
     "metadata": {},
     "output_type": "execute_result"
    }
   ],
   "source": [
    "s.fillna(s.mean())"
   ]
  },
  {
   "cell_type": "markdown",
   "id": "0283e76f-d784-4598-82f8-d730a7ba0e71",
   "metadata": {},
   "source": [
    "Suppose you need the fill value to vary by group"
   ]
  },
  {
   "cell_type": "code",
   "execution_count": 4,
   "id": "ea9701d1-c88e-4f9c-96f6-d281fde9bb13",
   "metadata": {},
   "outputs": [],
   "source": [
    "states = [\"Ohio\", \"New York\", \"Vermont\", \"Florida\", \"Oregon\", \"Nevada\", \"California\", \"Idaho\"]"
   ]
  },
  {
   "cell_type": "code",
   "execution_count": 5,
   "id": "1fba6673-2bb6-4cba-b299-4f26222c3db4",
   "metadata": {},
   "outputs": [],
   "source": [
    "group_key = [\"East\", \"East\", \"East\", \"East\", \"West\", \"West\", \"West\", \"West\"]"
   ]
  },
  {
   "cell_type": "code",
   "execution_count": 6,
   "id": "60b1afa1-f3ee-4b0f-8d69-d58a3a97751d",
   "metadata": {},
   "outputs": [
    {
     "data": {
      "text/plain": [
       "Ohio         -1.121787\n",
       "New York      0.207882\n",
       "Vermont            NaN\n",
       "Florida       1.067554\n",
       "Oregon        2.082142\n",
       "Nevada             NaN\n",
       "California    1.796159\n",
       "Idaho              NaN\n",
       "dtype: float64"
      ]
     },
     "execution_count": 6,
     "metadata": {},
     "output_type": "execute_result"
    }
   ],
   "source": [
    "data = pd.Series(np.random.standard_normal(8), index=states)\n",
    "data[[\"Vermont\", \"Nevada\", \"Idaho\"]] = np.nan\n",
    "data"
   ]
  },
  {
   "cell_type": "markdown",
   "id": "a7bfbccb-7724-465e-a047-9d5c1b9adf8d",
   "metadata": {
    "jp-MarkdownHeadingCollapsed": true
   },
   "source": [
    "## Group Weighted Average"
   ]
  },
  {
   "cell_type": "code",
   "execution_count": 7,
   "id": "393df4c0-bcfc-44d3-b0aa-213a5f72d61a",
   "metadata": {},
   "outputs": [
    {
     "data": {
      "text/html": [
       "<div>\n",
       "<style scoped>\n",
       "    .dataframe tbody tr th:only-of-type {\n",
       "        vertical-align: middle;\n",
       "    }\n",
       "\n",
       "    .dataframe tbody tr th {\n",
       "        vertical-align: top;\n",
       "    }\n",
       "\n",
       "    .dataframe thead th {\n",
       "        text-align: right;\n",
       "    }\n",
       "</style>\n",
       "<table border=\"1\" class=\"dataframe\">\n",
       "  <thead>\n",
       "    <tr style=\"text-align: right;\">\n",
       "      <th></th>\n",
       "      <th>category</th>\n",
       "      <th>data</th>\n",
       "      <th>weights</th>\n",
       "    </tr>\n",
       "  </thead>\n",
       "  <tbody>\n",
       "    <tr>\n",
       "      <th>0</th>\n",
       "      <td>a</td>\n",
       "      <td>2.074501</td>\n",
       "      <td>0.681613</td>\n",
       "    </tr>\n",
       "    <tr>\n",
       "      <th>1</th>\n",
       "      <td>a</td>\n",
       "      <td>2.790271</td>\n",
       "      <td>0.202006</td>\n",
       "    </tr>\n",
       "    <tr>\n",
       "      <th>2</th>\n",
       "      <td>a</td>\n",
       "      <td>-0.687044</td>\n",
       "      <td>0.590698</td>\n",
       "    </tr>\n",
       "    <tr>\n",
       "      <th>3</th>\n",
       "      <td>a</td>\n",
       "      <td>-1.992536</td>\n",
       "      <td>0.128009</td>\n",
       "    </tr>\n",
       "    <tr>\n",
       "      <th>4</th>\n",
       "      <td>b</td>\n",
       "      <td>1.386038</td>\n",
       "      <td>0.447775</td>\n",
       "    </tr>\n",
       "    <tr>\n",
       "      <th>5</th>\n",
       "      <td>b</td>\n",
       "      <td>0.438358</td>\n",
       "      <td>0.099912</td>\n",
       "    </tr>\n",
       "    <tr>\n",
       "      <th>6</th>\n",
       "      <td>b</td>\n",
       "      <td>-0.235804</td>\n",
       "      <td>0.081070</td>\n",
       "    </tr>\n",
       "    <tr>\n",
       "      <th>7</th>\n",
       "      <td>b</td>\n",
       "      <td>0.369543</td>\n",
       "      <td>0.918887</td>\n",
       "    </tr>\n",
       "  </tbody>\n",
       "</table>\n",
       "</div>"
      ],
      "text/plain": [
       "  category      data   weights\n",
       "0        a  2.074501  0.681613\n",
       "1        a  2.790271  0.202006\n",
       "2        a -0.687044  0.590698\n",
       "3        a -1.992536  0.128009\n",
       "4        b  1.386038  0.447775\n",
       "5        b  0.438358  0.099912\n",
       "6        b -0.235804  0.081070\n",
       "7        b  0.369543  0.918887"
      ]
     },
     "execution_count": 7,
     "metadata": {},
     "output_type": "execute_result"
    }
   ],
   "source": [
    "df = pd.DataFrame({\"category\": [\"a\", \"a\", \"a\", \"a\", \"b\", \"b\", \"b\", \"b\"],\n",
    "\"data\": np.random.standard_normal(8),\n",
    "\"weights\": np.random.uniform(size=8)})\n",
    "df"
   ]
  },
  {
   "cell_type": "markdown",
   "id": "71c7dc0a-b09a-425d-828c-1b7b1271c7c0",
   "metadata": {},
   "source": [
    "Find the weighted average by category\n",
    "(hint: groupby data and using np.average)"
   ]
  },
  {
   "cell_type": "code",
   "execution_count": null,
   "id": "aa772e06-b7fd-442f-b38f-c0c7c71e3099",
   "metadata": {},
   "outputs": [],
   "source": []
  }
 ],
 "metadata": {
  "kernelspec": {
   "display_name": "Python 3 (ipykernel)",
   "language": "python",
   "name": "python3"
  },
  "language_info": {
   "codemirror_mode": {
    "name": "ipython",
    "version": 3
   },
   "file_extension": ".py",
   "mimetype": "text/x-python",
   "name": "python",
   "nbconvert_exporter": "python",
   "pygments_lexer": "ipython3",
   "version": "3.8.10"
  }
 },
 "nbformat": 4,
 "nbformat_minor": 5
}
